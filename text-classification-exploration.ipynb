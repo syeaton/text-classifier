{
 "cells": [
  {
   "cell_type": "code",
   "execution_count": 1,
   "metadata": {},
   "outputs": [],
   "source": [
    "# Notebook to explore data and complement Skafos text predictor"
   ]
  },
  {
   "cell_type": "code",
   "execution_count": 2,
   "metadata": {},
   "outputs": [],
   "source": [
    "# https://scikit-learn.org/stable/modules/generated/sklearn.datasets.fetch_20newsgroups.html\n",
    "from sklearn.datasets import fetch_20newsgroups"
   ]
  },
  {
   "cell_type": "code",
   "execution_count": 3,
   "metadata": {},
   "outputs": [],
   "source": [
    "# Select training and testing data. This creates newsgroups_train and newsgroups_test as sklearn.utils.Bunch objects\n",
    "newsgroups_train = fetch_20newsgroups(subset='train', remove=('headers', 'footers', 'quotes'), shuffle='True')\n",
    "newsgroups_test = fetch_20newsgroups(subset='test', remove=('headers', 'footers', 'quotes'), shuffle='True')"
   ]
  },
  {
   "cell_type": "code",
   "execution_count": 4,
   "metadata": {},
   "outputs": [
    {
     "data": {
      "text/plain": [
       "['alt.atheism',\n",
       " 'comp.graphics',\n",
       " 'comp.os.ms-windows.misc',\n",
       " 'comp.sys.ibm.pc.hardware',\n",
       " 'comp.sys.mac.hardware',\n",
       " 'comp.windows.x',\n",
       " 'misc.forsale',\n",
       " 'rec.autos',\n",
       " 'rec.motorcycles',\n",
       " 'rec.sport.baseball',\n",
       " 'rec.sport.hockey',\n",
       " 'sci.crypt',\n",
       " 'sci.electronics',\n",
       " 'sci.med',\n",
       " 'sci.space',\n",
       " 'soc.religion.christian',\n",
       " 'talk.politics.guns',\n",
       " 'talk.politics.mideast',\n",
       " 'talk.politics.misc',\n",
       " 'talk.religion.misc']"
      ]
     },
     "execution_count": 4,
     "metadata": {},
     "output_type": "execute_result"
    }
   ],
   "source": [
    "# Explore the target names\n",
    "newsgroups_train.target_names"
   ]
  },
  {
   "cell_type": "code",
   "execution_count": 8,
   "metadata": {},
   "outputs": [
    {
     "data": {
      "text/plain": [
       "['I was wondering if anyone out there could enlighten me on this car I saw\\nthe other day. It was a 2-door sports car, looked to be from the late 60s/\\nearly 70s. It was called a Bricklin. The doors were really small. In addition,\\nthe front bumper was separate from the rest of the body. This is \\nall I know. If anyone can tellme a model name, engine specs, years\\nof production, where this car is made, history, or whatever info you\\nhave on this funky looking car, please e-mail.',\n",
       " \"A fair number of brave souls who upgraded their SI clock oscillator have\\nshared their experiences for this poll. Please send a brief message detailing\\nyour experiences with the procedure. Top speed attained, CPU rated speed,\\nadd on cards and adapters, heat sinks, hour of usage per day, floppy disk\\nfunctionality with 800 and 1.4 m floppies are especially requested.\\n\\nI will be summarizing in the next two days, so please add to the network\\nknowledge base if you have done the clock upgrade and haven't answered this\\npoll. Thanks.\"]"
      ]
     },
     "execution_count": 8,
     "metadata": {},
     "output_type": "execute_result"
    }
   ],
   "source": [
    "# Example of what training data looks like\n",
    "newsgroups_train.data[:2]"
   ]
  },
  {
   "cell_type": "code",
   "execution_count": 15,
   "metadata": {},
   "outputs": [
    {
     "data": {
      "text/plain": [
       "array([7, 4])"
      ]
     },
     "execution_count": 15,
     "metadata": {},
     "output_type": "execute_result"
    }
   ],
   "source": [
    "# View how these texts are classified\n",
    "newsgroups_train.target[:2]"
   ]
  },
  {
   "cell_type": "code",
   "execution_count": 9,
   "metadata": {},
   "outputs": [
    {
     "data": {
      "text/plain": [
       "(11314, 101322)"
      ]
     },
     "execution_count": 9,
     "metadata": {},
     "output_type": "execute_result"
    }
   ],
   "source": [
    "# Use training data and scikit-learn feature extraction functions to create feature vectors from the text data\n",
    "# Want TF-IDF weightings\n",
    "from sklearn.feature_extraction.text import TfidfVectorizer\n",
    "vectorizer = TfidfVectorizer(stop_words='english')\n",
    "X_train_tfidf = vectorizer.fit_transform(newsgroups_train.data)\n",
    "X_train_tfidf.shape"
   ]
  },
  {
   "cell_type": "code",
   "execution_count": 16,
   "metadata": {},
   "outputs": [
    {
     "name": "stdout",
     "output_type": "stream",
     "text": [
      "  (0, 96879)\t0.1370359812611726\n",
      "  (0, 37256)\t0.20599311323287348\n",
      "  (0, 25717)\t0.46579831435138963\n",
      "  (0, 80420)\t0.12706903967122096\n",
      "  (0, 31927)\t0.10526008886822913\n",
      "  (0, 34741)\t0.14847880131844232\n",
      "  (0, 84312)\t0.1636839250592851\n",
      "  (0, 57247)\t0.13520842471059058\n",
      "  (0, 55606)\t0.1382259698975382\n",
      "  (0, 9843)\t0.20797700857530219\n",
      "  (0, 35902)\t0.12667096041973439\n",
      "  (0, 11174)\t0.20599311323287348\n",
      "  (0, 25437)\t0.10548299054214268\n",
      "  (0, 24108)\t0.2472313451421643\n",
      "  (0, 34742)\t0.17300821242559042\n",
      "  (0, 76269)\t0.08978258481915571\n",
      "  (0, 83208)\t0.11339406589538421\n",
      "  (0, 16806)\t0.14077745547061019\n",
      "  (0, 24583)\t0.19644480500804057\n",
      "  (0, 81450)\t0.14613089342888969\n",
      "  (0, 77676)\t0.12197186951739483\n",
      "  (0, 23430)\t0.1293710328851233\n",
      "  (0, 54493)\t0.06961997844491916\n",
      "  (0, 87913)\t0.25808578247347563\n",
      "  (0, 62594)\t0.13037295035007845\n",
      "  :\t:\n",
      "  (11313, 47085)\t0.15717057502749704\n",
      "  (11313, 81583)\t0.15204670587770022\n",
      "  (11313, 81534)\t0.13599170815448167\n",
      "  (11313, 96205)\t0.12259690956628234\n",
      "  (11313, 89541)\t0.14649727676811414\n",
      "  (11313, 23252)\t0.13992653941289682\n",
      "  (11313, 82446)\t0.15954503904754266\n",
      "  (11313, 85297)\t0.16406632353084866\n",
      "  (11313, 69870)\t0.19436375007014398\n",
      "  (11313, 21226)\t0.1721289176549996\n",
      "  (11313, 61934)\t0.15793794797447058\n",
      "  (11313, 71793)\t0.15872893606754443\n",
      "  (11313, 87500)\t0.2039952769329171\n",
      "  (11313, 84379)\t0.1861778699316173\n",
      "  (11313, 61823)\t0.16955626387349404\n",
      "  (11313, 26147)\t0.20175864211559683\n",
      "  (11313, 71588)\t0.16895141044400772\n",
      "  (11313, 78163)\t0.1809136122039029\n",
      "  (11313, 89206)\t0.16559380758853798\n",
      "  (11313, 56576)\t0.16357668806532052\n",
      "  (11313, 53894)\t0.18503523360867954\n",
      "  (11313, 26150)\t0.22426264018098238\n",
      "  (11313, 52092)\t0.24781597107404335\n",
      "  (11313, 4486)\t0.24781597107404335\n",
      "  (11313, 96408)\t0.24781597107404335\n"
     ]
    }
   ],
   "source": [
    "# Look at results of TF-IDF weightings\n",
    "print(X_train_tfidf)"
   ]
  },
  {
   "cell_type": "code",
   "execution_count": 28,
   "metadata": {},
   "outputs": [
    {
     "data": {
      "text/plain": [
       "'xtunmapwidget'"
      ]
     },
     "execution_count": 28,
     "metadata": {},
     "output_type": "execute_result"
    }
   ],
   "source": [
    "# Explore some of the names of the features\n",
    "vectorizer.get_feature_names()[-2350]"
   ]
  },
  {
   "cell_type": "code",
   "execution_count": 37,
   "metadata": {},
   "outputs": [],
   "source": [
    "# Use a naive bayes classifier to predict targets\n",
    "from sklearn.naive_bayes import MultinomialNB\n",
    "from sklearn.ensemble import RandomForestClassifier\n",
    "clf = MultinomialNB(alpha=0.01).fit(X_train_tfidf, newsgroups_train.target)\n",
    "rfc = RandomForestClassifier(n_estimators=100).fit(X_train_tfidf, newsgroups_train.target)"
   ]
  },
  {
   "cell_type": "code",
   "execution_count": 38,
   "metadata": {},
   "outputs": [
    {
     "data": {
      "text/plain": [
       "array([480., 584., 591., 590., 578., 593., 585., 594., 598., 597., 600.,\n",
       "       595., 591., 594., 593., 599., 546., 564., 465., 377.])"
      ]
     },
     "execution_count": 38,
     "metadata": {},
     "output_type": "execute_result"
    }
   ],
   "source": [
    "clf.class_count_"
   ]
  },
  {
   "cell_type": "code",
   "execution_count": 23,
   "metadata": {},
   "outputs": [
    {
     "name": "stdout",
     "output_type": "stream",
     "text": [
      "0.7010090281465746\n"
     ]
    }
   ],
   "source": [
    "# Assess the performance of this classifier on test holdout sample\n",
    "import numpy as np\n",
    "from sklearn import metrics\n",
    "X_test_tfidf = vectorizer.transform(newsgroups_test.data)\n",
    "X_test_tfidf.shape\n",
    "news_pred = clf.predict(X_test_tfidf)\n",
    "accuracy = metrics.accuracy_score(newsgroups_test.target, news_pred)\n",
    "print(accuracy)"
   ]
  },
  {
   "cell_type": "code",
   "execution_count": 40,
   "metadata": {},
   "outputs": [
    {
     "name": "stdout",
     "output_type": "stream",
     "text": [
      "[9]\n"
     ]
    }
   ],
   "source": [
    "# Let's try to predict something\n",
    "example_text = [\"Has anyone seen the world series? The pitchers and batters are really excellent. Lots of stolen bases. I love a world series home run.\"]\n",
    "ex_tfidf = vectorizer.transform(example_text)\n",
    "ex_predict = clf.predict(ex_tfidf)\n",
    "print(ex_predict)"
   ]
  },
  {
   "cell_type": "code",
   "execution_count": null,
   "metadata": {},
   "outputs": [],
   "source": []
  }
 ],
 "metadata": {
  "kernelspec": {
   "display_name": "Python 3",
   "language": "python",
   "name": "python3"
  },
  "language_info": {
   "codemirror_mode": {
    "name": "ipython",
    "version": 3
   },
   "file_extension": ".py",
   "mimetype": "text/x-python",
   "name": "python",
   "nbconvert_exporter": "python",
   "pygments_lexer": "ipython3",
   "version": "3.6.5"
  }
 },
 "nbformat": 4,
 "nbformat_minor": 2
}
